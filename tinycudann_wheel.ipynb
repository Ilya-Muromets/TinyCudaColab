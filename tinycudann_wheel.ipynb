{
  "nbformat": 4,
  "nbformat_minor": 0,
  "metadata": {
    "colab": {
      "provenance": [],
      "gpuType": "T4",
      "authorship_tag": "ABX9TyMMeMCceAMaPQqUYoEA5eXG",
      "include_colab_link": true
    },
    "kernelspec": {
      "name": "python3",
      "display_name": "Python 3"
    },
    "language_info": {
      "name": "python"
    },
    "accelerator": "GPU"
  },
  "cells": [
    {
      "cell_type": "markdown",
      "metadata": {
        "id": "view-in-github",
        "colab_type": "text"
      },
      "source": [
        "<a href=\"https://colab.research.google.com/github/Ilya-Muromets/TinyCudaColab/blob/main/tinycudann_wheel.ipynb\" target=\"_parent\"><img src=\"https://colab.research.google.com/assets/colab-badge.svg\" alt=\"Open In Colab\"/></a>"
      ]
    },
    {
      "cell_type": "code",
      "execution_count": null,
      "metadata": {
        "id": "FFJHl7I9_k7Q"
      },
      "outputs": [],
      "source": [
        "%%bash\n",
        "set -ex\n",
        "\n",
        "echo \"Updating and installing dependencies...\"\n",
        "sudo apt-get update\n",
        "sudo apt-get install -y git python3 python3-pip\n",
        "\n",
        "echo \"Cloning tiny-cuda-nn repository with submodules...\"\n",
        "git clone --recursive https://github.com/NVlabs/tiny-cuda-nn.git\n",
        "\n",
        "echo \"Navigating to the PyTorch bindings folder...\"\n",
        "cd tiny-cuda-nn/bindings/torch\n",
        "\n",
        "echo \"Upgrading pip and installing build tools...\"\n",
        "pip install --upgrade pip\n",
        "pip install setuptools wheel ninja\n",
        "\n",
        "echo \"Checking installed PyTorch version...\"\n",
        "python3 -c \"import torch; print('Torch version:', torch.__version__)\"\n",
        "\n",
        "echo \"Setting up parallel build (using all available cores)...\"\n",
        "export CMAKE_BUILD_PARALLEL_LEVEL=$(nproc)\n",
        "echo \"Using $CMAKE_BUILD_PARALLEL_LEVEL parallel jobs\"\n",
        "\n",
        "echo \"Building the wheel for Linux x86_64 with T4 architecture (INCLUDE_ARCH=75)...\"\n",
        "INCLUDE_ARCH=75 python3 setup.py bdist_wheel --plat-name linux_x86_64\n",
        "\n",
        "echo \"Listing the generated wheel file(s)...\"\n",
        "ls dist/\n"
      ]
    }
  ]
}